{
 "cells": [
  {
   "cell_type": "code",
   "execution_count": null,
   "metadata": {},
   "outputs": [],
   "source": [
    "from os.path import isdir, join, isfile\n",
    "from os import getcwd, system\n",
    "\n",
    "import chainer\n",
    "import yaml\n",
    "# # local imports from the git.\n",
    "from source.yaml_utils import Config, load_dataset\n",
    "from source.misc_train_utils import load_models_cgan, ensure_config_paths\n",
    "from evaluations.extensions_cgan import gen_images_cgan"
   ]
  },
  {
   "cell_type": "markdown",
   "metadata": {},
   "source": [
    "###### Load config and base paths"
   ]
  },
  {
   "cell_type": "code",
   "execution_count": null,
   "metadata": {},
   "outputs": [],
   "source": [
    "# # the base path (current path that should have the code).\n",
    "pb = join(getcwd(), '')\n",
    "# # load config.\n",
    "config = Config(yaml.load(open(join(pb, 'jobs/rocgan/demo.yml'))))\n",
    "# # ensure that the paths of the config are correct.\n",
    "config = ensure_config_paths(config, pb=pb)"
   ]
  },
  {
   "cell_type": "markdown",
   "metadata": {},
   "source": [
    "###### Load model/iterator"
   ]
  },
  {
   "cell_type": "code",
   "execution_count": null,
   "metadata": {},
   "outputs": [],
   "source": [
    "# # load the class for the db reader.\n",
    "db_test = load_dataset(config, validation=True, valid_path='files_test.txt')\n",
    "# # load the iterator.\n",
    "iterator = chainer.iterators.SerialIterator(db_test, config.batchsize, \n",
    "                                            shuffle=False, repeat=False)\n",
    "\n",
    "# # load the encoder/decoder architecture.\n",
    "enc, dec, _ = load_models_cgan(config)\n",
    "# # path of the folder with the weights.\n",
    "pfold = join(pb, 'models_rocgan', '{}_best.npz')\n",
    "# # load the weights.\n",
    "if not isfile(pfold.format('Encoder')):\n",
    "    msg = ('Please download the model from http://bit.ly/2GBtx0z '\n",
    "           ' and place the models in the models_rocgan/.')\n",
    "    print(msg)\n",
    "chainer.serializers.load_npz(pfold.format('Encoder'), enc)\n",
    "chainer.serializers.load_npz(pfold.format('Decoder'), dec)"
   ]
  },
  {
   "cell_type": "markdown",
   "metadata": {},
   "source": [
    "###### Evaluate and visualize"
   ]
  },
  {
   "cell_type": "code",
   "execution_count": null,
   "metadata": {},
   "outputs": [],
   "source": [
    "ims = gen_images_cgan(enc, dec, iterator, n=100, func=None)"
   ]
  },
  {
   "cell_type": "code",
   "execution_count": null,
   "metadata": {},
   "outputs": [],
   "source": [
    "import matplotlib.pyplot as plt\n",
    "import numpy as np\n",
    "%matplotlib inline\n",
    "# # visualize the image idx.\n",
    "# # From left to right: The output of the network, the \n",
    "# # corrupted image and the ground-truth one.\n",
    "idx = 0\n",
    "im_i = lambda ims, idx=idx: ims[idx].transpose(1, 2, 0)\n",
    "im = np.concatenate((im_i(ims[0]), im_i(ims[1]), im_i(ims[2])), axis=1)\n",
    "plt.imshow(im)"
   ]
  },
  {
   "cell_type": "code",
   "execution_count": null,
   "metadata": {},
   "outputs": [],
   "source": []
  }
 ],
 "metadata": {
  "kernelspec": {
   "display_name": "Python 3",
   "language": "python",
   "name": "python3"
  },
  "language_info": {
   "codemirror_mode": {
    "name": "ipython",
    "version": 3
   },
   "file_extension": ".py",
   "mimetype": "text/x-python",
   "name": "python",
   "nbconvert_exporter": "python",
   "pygments_lexer": "ipython3",
   "version": "3.5.4"
  }
 },
 "nbformat": 4,
 "nbformat_minor": 2
}
